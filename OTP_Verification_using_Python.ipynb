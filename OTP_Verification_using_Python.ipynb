{
  "nbformat": 4,
  "nbformat_minor": 0,
  "metadata": {
    "colab": {
      "provenance": []
    },
    "kernelspec": {
      "name": "python3",
      "display_name": "Python 3"
    },
    "language_info": {
      "name": "python"
    }
  },
  "cells": [
    {
      "cell_type": "markdown",
      "source": [
        "#OTP Verification using Python"
      ],
      "metadata": {
        "id": "saOqB0XmOH8N"
      }
    },
    {
      "cell_type": "code",
      "source": [
        "import os\n",
        "import math\n",
        "import random\n",
        "import smtplib"
      ],
      "metadata": {
        "id": "7-ZaOXaM7chJ"
      },
      "execution_count": 15,
      "outputs": []
    },
    {
      "cell_type": "markdown",
      "source": [
        "Generating a random number and store it in a variable"
      ],
      "metadata": {
        "id": "Wu-jUqhzO7rs"
      }
    },
    {
      "cell_type": "code",
      "execution_count": 16,
      "metadata": {
        "id": "t3tCxSYN7bfs"
      },
      "outputs": [],
      "source": [
        "\n",
        "digits=\"0123456789\"\n",
        "OTP=\"\"\n",
        "for i in range(6):\n",
        "    OTP+=digits[math.floor(random.random()*10)]\n",
        "otp = OTP + \" is your OTP\"\n",
        "msg= otp"
      ]
    },
    {
      "cell_type": "markdown",
      "source": [
        "Prior to proceeding, it is necessary for you to obtain your Google app password to send emails from your Gmail account. Once you have created an app password for your Gmail account, you will receive a key which should be copied and pasted into the code below to enable sending of emails for OTP verification using Python."
      ],
      "metadata": {
        "id": "SlkXMggKPW0G"
      }
    },
    {
      "cell_type": "code",
      "source": [
        "s = smtplib.SMTP('smtp.gmail.com', 587)\n",
        "s.starttls()\n",
        "s.login(\"Your_gmail_id\", \"Your_Password\")\n",
        "emailid = input(\"Enter your email: \")\n",
        "s.sendmail('&&&&&&&&&&&',emailid,msg)\n",
        "a = input(\"Enter Your OTP >>: \")\n",
        "if a == OTP:\n",
        "    print(\"Verified\")\n",
        "else:\n",
        "    print(\"Please Check your OTP again\")"
      ],
      "metadata": {
        "colab": {
          "base_uri": "https://localhost:8080/"
        },
        "id": "VLqZ9vD67mxo",
        "outputId": "28e2f3d8-0f30-47d1-fd66-8a33313403eb"
      },
      "execution_count": 17,
      "outputs": [
        {
          "output_type": "stream",
          "name": "stdout",
          "text": [
            "Enter your email: charminlootera31@gmail.com\n",
            "Enter Your OTP >>: 473506\n",
            "Verified\n"
          ]
        }
      ]
    }
  ]
}